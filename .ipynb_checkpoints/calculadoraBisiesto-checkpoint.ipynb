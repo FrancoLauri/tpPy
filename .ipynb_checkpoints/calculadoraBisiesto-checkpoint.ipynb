{
 "cells": [
  {
   "cell_type": "code",
   "execution_count": null,
   "id": "fa08074e",
   "metadata": {},
   "outputs": [],
   "source": [
    "x = int(input(\"introduci un año: \"))\n",
    "def esBisiesto(x):\n",
    "    \n",
    "    divXCuatro = x / 4\n",
    "    divXCien = x / 100\n",
    "    divXCuatrocientos = x / 400\n",
    "    \n",
    "    \n",
    "    if divXCuatro > x//4:\n",
    "        return(\"No es bisiesto\")\n",
    "    \n",
    "    if divXCien > x//100:\n",
    "        if divXCuatrocientos > x//400:\n",
    "            return(\"Es bisiesto\")\n",
    "        else:\n",
    "            return(\"No es bisiesto\")\n",
    "        \n",
    "    if divXCuatrocientos > x//400:\n",
    "        return(\"No es bisiesto\")\n",
    "    else:\n",
    "        return(\"Es bisiesto\")\n",
    "\n",
    "esBisiesto(x)"
   ]
  },
  {
   "cell_type": "code",
   "execution_count": null,
   "id": "82bbaad6",
   "metadata": {},
   "outputs": [],
   "source": []
  },
  {
   "cell_type": "code",
   "execution_count": null,
   "id": "69c4d903",
   "metadata": {},
   "outputs": [],
   "source": []
  },
  {
   "cell_type": "code",
   "execution_count": null,
   "id": "600aacef",
   "metadata": {},
   "outputs": [],
   "source": []
  },
  {
   "cell_type": "code",
   "execution_count": null,
   "id": "5b7ec068",
   "metadata": {},
   "outputs": [],
   "source": []
  },
  {
   "cell_type": "code",
   "execution_count": null,
   "id": "b33c181a",
   "metadata": {},
   "outputs": [],
   "source": []
  },
  {
   "cell_type": "code",
   "execution_count": null,
   "id": "cc2243aa",
   "metadata": {},
   "outputs": [],
   "source": []
  },
  {
   "cell_type": "code",
   "execution_count": null,
   "id": "cd03e1b2",
   "metadata": {},
   "outputs": [],
   "source": []
  },
  {
   "cell_type": "code",
   "execution_count": null,
   "id": "be735cf0",
   "metadata": {},
   "outputs": [],
   "source": []
  },
  {
   "cell_type": "code",
   "execution_count": null,
   "id": "b12e1e34",
   "metadata": {},
   "outputs": [],
   "source": []
  },
  {
   "cell_type": "code",
   "execution_count": null,
   "id": "ee8565e7",
   "metadata": {},
   "outputs": [],
   "source": []
  }
 ],
 "metadata": {
  "kernelspec": {
   "display_name": "Python 3 (ipykernel)",
   "language": "python",
   "name": "python3"
  },
  "language_info": {
   "codemirror_mode": {
    "name": "ipython",
    "version": 3
   },
   "file_extension": ".py",
   "mimetype": "text/x-python",
   "name": "python",
   "nbconvert_exporter": "python",
   "pygments_lexer": "ipython3",
   "version": "3.9.7"
  }
 },
 "nbformat": 4,
 "nbformat_minor": 5
}
